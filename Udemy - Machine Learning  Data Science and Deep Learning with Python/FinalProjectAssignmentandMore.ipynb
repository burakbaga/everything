{
 "cells": [
  {
   "cell_type": "code",
   "execution_count": 2,
   "metadata": {},
   "outputs": [],
   "source": [
    "import pandas as pd \n",
    "import numpy as np \n",
    "import matplotlib.pyplot as plt\n",
    "import seaborn as sns \n",
    "import sklearn\n",
    "import warnings \n",
    "\n",
    "from sklearn.preprocessing import StandardScaler,MinMaxScaler\n",
    "from sklearn.model_selection import train_test_split,GridSearchCV,cross_val_score\n",
    "from sklearn.metrics import accuracy_score,precision_score,recall_score,f1_score\n",
    "\n",
    "from sklearn.tree import DecisionTreeClassifier\n",
    "from sklearn.ensemble import RandomForestClassifier\n",
    "from sklearn.svm import SVC\n",
    "from sklearn.neighbors import KNeighborsClassifier\n",
    "from sklearn.naive_bayes import MultinomialNB\n",
    "from sklearn.linear_model import LogisticRegression\n",
    "from sklearn.ensemble import VotingClassifier\n",
    "\n",
    "plt.style.use('ggplot')\n",
    "\n",
    "\n",
    "warnings.filterwarnings(action=\"ignore\")\n",
    "\n"
   ]
  },
  {
   "cell_type": "markdown",
   "metadata": {},
   "source": [
    "Veri Setinde  : <br>\n",
    "<b>\n",
    "BI-RADS assessment: 1 to 5 (ordinal)<br>\n",
    "Age: patient's age in years (integer)<br>\n",
    "Shape: mass shape: round=1 oval=2 lobular=3 irregular=4 (nominal)<br>\n",
    "Margin: mass margin: circumscribed=1 microlobulated=2 obscured=3 ill-defined=4 spiculated=5 (nominal)<br>\n",
    "Density: mass density high=1 iso=2 low=3 fat-containing=4 (ordinal)<br>\n",
    "Severity: benign=0 or malignant=1 (binominal)<br>\n",
    "\n",
    "</b>|\n",
    "<br>\n",
    "\n",
    "Yukarida verilen sutunlardan BI-RADS siniflandirmadan ne derece emin oldugumuzun gostergesidir. Bu sebeple modelimize bu ozelligi koymayacagiz. Modeli Age,Shape, Margin, Density ozelliklerini kullanarak Severity i tahmin etmeye calisacagiz.. \n"
   ]
  },
  {
   "cell_type": "code",
   "execution_count": 3,
   "metadata": {},
   "outputs": [],
   "source": [
    "column_names = ['BI-RADS','Age','Shape','Margin','Density','Severity']\n",
    "\n",
    "data = pd.read_csv('MLCourse/mammographic_masses.data.txt',names= column_names,na_values='?')"
   ]
  },
  {
   "cell_type": "code",
   "execution_count": 4,
   "metadata": {},
   "outputs": [
    {
     "data": {
      "text/html": [
       "<div>\n",
       "<style scoped>\n",
       "    .dataframe tbody tr th:only-of-type {\n",
       "        vertical-align: middle;\n",
       "    }\n",
       "\n",
       "    .dataframe tbody tr th {\n",
       "        vertical-align: top;\n",
       "    }\n",
       "\n",
       "    .dataframe thead th {\n",
       "        text-align: right;\n",
       "    }\n",
       "</style>\n",
       "<table border=\"1\" class=\"dataframe\">\n",
       "  <thead>\n",
       "    <tr style=\"text-align: right;\">\n",
       "      <th></th>\n",
       "      <th>Age</th>\n",
       "      <th>Shape</th>\n",
       "      <th>Margin</th>\n",
       "      <th>Density</th>\n",
       "      <th>Severity</th>\n",
       "    </tr>\n",
       "  </thead>\n",
       "  <tbody>\n",
       "    <tr>\n",
       "      <th>0</th>\n",
       "      <td>67.0</td>\n",
       "      <td>3.0</td>\n",
       "      <td>5.0</td>\n",
       "      <td>3.0</td>\n",
       "      <td>1</td>\n",
       "    </tr>\n",
       "    <tr>\n",
       "      <th>1</th>\n",
       "      <td>43.0</td>\n",
       "      <td>1.0</td>\n",
       "      <td>1.0</td>\n",
       "      <td>NaN</td>\n",
       "      <td>1</td>\n",
       "    </tr>\n",
       "    <tr>\n",
       "      <th>2</th>\n",
       "      <td>58.0</td>\n",
       "      <td>4.0</td>\n",
       "      <td>5.0</td>\n",
       "      <td>3.0</td>\n",
       "      <td>1</td>\n",
       "    </tr>\n",
       "    <tr>\n",
       "      <th>3</th>\n",
       "      <td>28.0</td>\n",
       "      <td>1.0</td>\n",
       "      <td>1.0</td>\n",
       "      <td>3.0</td>\n",
       "      <td>0</td>\n",
       "    </tr>\n",
       "    <tr>\n",
       "      <th>4</th>\n",
       "      <td>74.0</td>\n",
       "      <td>1.0</td>\n",
       "      <td>5.0</td>\n",
       "      <td>NaN</td>\n",
       "      <td>1</td>\n",
       "    </tr>\n",
       "  </tbody>\n",
       "</table>\n",
       "</div>"
      ],
      "text/plain": [
       "    Age  Shape  Margin  Density  Severity\n",
       "0  67.0    3.0     5.0      3.0         1\n",
       "1  43.0    1.0     1.0      NaN         1\n",
       "2  58.0    4.0     5.0      3.0         1\n",
       "3  28.0    1.0     1.0      3.0         0\n",
       "4  74.0    1.0     5.0      NaN         1"
      ]
     },
     "execution_count": 4,
     "metadata": {},
     "output_type": "execute_result"
    }
   ],
   "source": [
    "data.drop(columns='BI-RADS',axis=1,inplace=True)\n",
    "data.head()"
   ]
  },
  {
   "cell_type": "code",
   "execution_count": 5,
   "metadata": {},
   "outputs": [
    {
     "data": {
      "text/html": [
       "<div>\n",
       "<style scoped>\n",
       "    .dataframe tbody tr th:only-of-type {\n",
       "        vertical-align: middle;\n",
       "    }\n",
       "\n",
       "    .dataframe tbody tr th {\n",
       "        vertical-align: top;\n",
       "    }\n",
       "\n",
       "    .dataframe thead th {\n",
       "        text-align: right;\n",
       "    }\n",
       "</style>\n",
       "<table border=\"1\" class=\"dataframe\">\n",
       "  <thead>\n",
       "    <tr style=\"text-align: right;\">\n",
       "      <th></th>\n",
       "      <th>Age</th>\n",
       "      <th>Shape</th>\n",
       "      <th>Margin</th>\n",
       "      <th>Density</th>\n",
       "      <th>Severity</th>\n",
       "    </tr>\n",
       "  </thead>\n",
       "  <tbody>\n",
       "    <tr>\n",
       "      <th>count</th>\n",
       "      <td>956.000000</td>\n",
       "      <td>930.000000</td>\n",
       "      <td>913.000000</td>\n",
       "      <td>885.000000</td>\n",
       "      <td>961.000000</td>\n",
       "    </tr>\n",
       "    <tr>\n",
       "      <th>mean</th>\n",
       "      <td>55.487448</td>\n",
       "      <td>2.721505</td>\n",
       "      <td>2.796276</td>\n",
       "      <td>2.910734</td>\n",
       "      <td>0.463059</td>\n",
       "    </tr>\n",
       "    <tr>\n",
       "      <th>std</th>\n",
       "      <td>14.480131</td>\n",
       "      <td>1.242792</td>\n",
       "      <td>1.566546</td>\n",
       "      <td>0.380444</td>\n",
       "      <td>0.498893</td>\n",
       "    </tr>\n",
       "    <tr>\n",
       "      <th>min</th>\n",
       "      <td>18.000000</td>\n",
       "      <td>1.000000</td>\n",
       "      <td>1.000000</td>\n",
       "      <td>1.000000</td>\n",
       "      <td>0.000000</td>\n",
       "    </tr>\n",
       "    <tr>\n",
       "      <th>25%</th>\n",
       "      <td>45.000000</td>\n",
       "      <td>2.000000</td>\n",
       "      <td>1.000000</td>\n",
       "      <td>3.000000</td>\n",
       "      <td>0.000000</td>\n",
       "    </tr>\n",
       "    <tr>\n",
       "      <th>50%</th>\n",
       "      <td>57.000000</td>\n",
       "      <td>3.000000</td>\n",
       "      <td>3.000000</td>\n",
       "      <td>3.000000</td>\n",
       "      <td>0.000000</td>\n",
       "    </tr>\n",
       "    <tr>\n",
       "      <th>75%</th>\n",
       "      <td>66.000000</td>\n",
       "      <td>4.000000</td>\n",
       "      <td>4.000000</td>\n",
       "      <td>3.000000</td>\n",
       "      <td>1.000000</td>\n",
       "    </tr>\n",
       "    <tr>\n",
       "      <th>max</th>\n",
       "      <td>96.000000</td>\n",
       "      <td>4.000000</td>\n",
       "      <td>5.000000</td>\n",
       "      <td>4.000000</td>\n",
       "      <td>1.000000</td>\n",
       "    </tr>\n",
       "  </tbody>\n",
       "</table>\n",
       "</div>"
      ],
      "text/plain": [
       "              Age       Shape      Margin     Density    Severity\n",
       "count  956.000000  930.000000  913.000000  885.000000  961.000000\n",
       "mean    55.487448    2.721505    2.796276    2.910734    0.463059\n",
       "std     14.480131    1.242792    1.566546    0.380444    0.498893\n",
       "min     18.000000    1.000000    1.000000    1.000000    0.000000\n",
       "25%     45.000000    2.000000    1.000000    3.000000    0.000000\n",
       "50%     57.000000    3.000000    3.000000    3.000000    0.000000\n",
       "75%     66.000000    4.000000    4.000000    3.000000    1.000000\n",
       "max     96.000000    4.000000    5.000000    4.000000    1.000000"
      ]
     },
     "execution_count": 5,
     "metadata": {},
     "output_type": "execute_result"
    }
   ],
   "source": [
    "data.describe()"
   ]
  },
  {
   "cell_type": "markdown",
   "metadata": {},
   "source": [
    "#### Missing Values\n",
    "Veride bulunan missing value lari median yada mean ile doldurabiliriz. Baska yontemlerde denenebilir ancak bu sekilde kolaylikla yapabiliriz. \n",
    "Missing value lar cok fazla olmadigi icin burada bu satirlari dusurerek de devam edebiliri. Cok fark yaratmayacaktir. "
   ]
  },
  {
   "cell_type": "code",
   "execution_count": 6,
   "metadata": {},
   "outputs": [
    {
     "data": {
      "text/plain": [
       "Age          5\n",
       "Shape       31\n",
       "Margin      48\n",
       "Density     76\n",
       "Severity     0\n",
       "dtype: int64"
      ]
     },
     "execution_count": 6,
     "metadata": {},
     "output_type": "execute_result"
    }
   ],
   "source": [
    "data.isna().sum()"
   ]
  },
  {
   "cell_type": "code",
   "execution_count": 7,
   "metadata": {},
   "outputs": [
    {
     "name": "stdout",
     "output_type": "stream",
     "text": [
      "Veri setinde 0 missing value bulunuyor..\n"
     ]
    }
   ],
   "source": [
    "data.fillna(value = data.median(),inplace = True)\n",
    "print(f'Veri setinde {data.isna().sum().sum()} missing value bulunuyor..')"
   ]
  },
  {
   "cell_type": "markdown",
   "metadata": {},
   "source": [
    "Insanlarda bulunan tumorlerin iyi yada kotu huylu olduklarini Severity verisinden ogreniyoruz. Elimizde bulunan veri setinde benign ya da malignant olma durumlari dengeli dagilmis gorunyor. Bunu 2 sekilde kontrol edebiliriz. "
   ]
  },
  {
   "cell_type": "code",
   "execution_count": 8,
   "metadata": {},
   "outputs": [
    {
     "data": {
      "image/png": "[encoded data removed]",
      "text/plain": [
       "<Figure size 432x288 with 1 Axes>"
      ]
     },
     "metadata": {},
     "output_type": "display_data"
    }
   ],
   "source": [
    "data.Severity.value_counts().plot(kind='bar')\n",
    "plt.show()"
   ]
  },
  {
   "cell_type": "code",
   "execution_count": 9,
   "metadata": {},
   "outputs": [
    {
     "data": {
      "image/png": "[encoded data removed]",
      "text/plain": [
       "<Figure size 432x288 with 1 Axes>"
      ]
     },
     "metadata": {},
     "output_type": "display_data"
    }
   ],
   "source": [
    "sns.barplot(x=data.Severity.value_counts().index, y= data.Severity.value_counts().values,)\n",
    "plt.show()"
   ]
  },
  {
   "cell_type": "markdown",
   "metadata": {},
   "source": [
    "Malignant olanlarin daha cok ileri yaslarda olanlarda oldugunu soyleyebiliriz."
   ]
  },
  {
   "cell_type": "code",
   "execution_count": 10,
   "metadata": {},
   "outputs": [
    {
     "data": {
      "image/png": "[encoded data removed]",
      "text/plain": [
       "<Figure size 432x288 with 1 Axes>"
      ]
     },
     "metadata": {},
     "output_type": "display_data"
    }
   ],
   "source": [
    "plt.hist('Age',data = data[data['Severity']==0] ,bins=20,color='g',alpha=.5,label='benign',edgecolor='w')\n",
    "plt.hist('Age',data = data[data['Severity']==1],bins=20, color ='r',alpha=.7,label='malignant',edgecolor='w')\n",
    "plt.legend()\n",
    "plt.show()"
   ]
  },
  {
   "cell_type": "markdown",
   "metadata": {},
   "source": [
    "Korelasyonlara bakarak hangi featurelarin Severity i tahmin etmemizde etkili olacagini ortaya koyabiliriz. <br>\n",
    "Shape,Age,Margin bilgilerinin yuksek pozitif korelasyona sahip oldugunu, Density featurerunun direkt olarak Severityi tahmin etmemizde etkili olmadigni gorebiliriz. "
   ]
  },
  {
   "cell_type": "code",
   "execution_count": 11,
   "metadata": {},
   "outputs": [
    {
     "data": {
      "image/png": "[encoded data removed]",
      "text/plain": [
       "<Figure size 576x432 with 2 Axes>"
      ]
     },
     "metadata": {},
     "output_type": "display_data"
    }
   ],
   "source": [
    "plt.figure(figsize=(8,6))\n",
    "sns.heatmap(data.corr(),annot=True,fmt='.1f')\n",
    "plt.show()"
   ]
  },
  {
   "cell_type": "markdown",
   "metadata": {},
   "source": [
    "Veri setini daha ayrintili inceleyerek ve baska grafikler olusturak daha ayrintili ogrenebilriz ancak cok kapsamli ve karmasik bir veri seti olmadigi icin gorsellestirme islemlerini birakip machine learning modelleri kullanacagimiz kisma gecelim. "
   ]
  },
  {
   "cell_type": "code",
   "execution_count": 12,
   "metadata": {},
   "outputs": [],
   "source": [
    "X = data.drop(columns=['Severity']).values\n",
    "y = data['Severity'].values\n",
    "feature_names = data.columns[:-1]"
   ]
  },
  {
   "cell_type": "code",
   "execution_count": 13,
   "metadata": {},
   "outputs": [],
   "source": [
    "X_train,X_test,y_train,y_test = train_test_split(X,y,test_size=.2)"
   ]
  },
  {
   "cell_type": "markdown",
   "metadata": {},
   "source": [
    "Data Leakage yasanmamasi icin once train-test olarak verimizi ayirdik. Ayirdiktan sonra train seti uzerinde fit.transform daha sonra test uzerinde sadece transform islemi gerceklestiricez.  <br> \n",
    "Kullanacagimiz modellerin bazilari verileri normalize edilmis halde isteyecektir. Bu sebeple verileri normalize ediyoruz. <br>\n",
    "\n",
    "Normalizasyon islemi ile en temelde featurelari ayni scale e getiriyoruz. orn 0-1 arasina , (-1)-1 arasina\n",
    "standart_scaler = z = (x - u) / s"
   ]
  },
  {
   "cell_type": "code",
   "execution_count": 14,
   "metadata": {},
   "outputs": [],
   "source": [
    "# Bir cok yontem kullanilabilir min-max, std ... \n",
    "\n",
    "stdScaler = StandardScaler()\n",
    "\n",
    "X_train_normalized = stdScaler.fit_transform(X_train)\n",
    "X_test_normalized = stdScaler.transform(X_test)"
   ]
  },
  {
   "cell_type": "code",
   "execution_count": 15,
   "metadata": {},
   "outputs": [
    {
     "data": {
      "text/plain": [
       "array([[ 0.02471513, -1.44987032, -1.17808419,  0.20292723],\n",
       "       [ 1.04888155,  1.00638058,  0.7916589 ,  0.20292723]])"
      ]
     },
     "execution_count": 15,
     "metadata": {},
     "output_type": "execute_result"
    }
   ],
   "source": [
    "X_train_normalized[:2]"
   ]
  },
  {
   "cell_type": "markdown",
   "metadata": {},
   "source": [
    "### Decision Tree"
   ]
  },
  {
   "cell_type": "code",
   "execution_count": 16,
   "metadata": {},
   "outputs": [
    {
     "data": {
      "text/plain": [
       "DecisionTreeClassifier(ccp_alpha=0.0, class_weight=None, criterion='gini',\n",
       "                       max_depth=3, max_features=None, max_leaf_nodes=None,\n",
       "                       min_impurity_decrease=0.0, min_impurity_split=None,\n",
       "                       min_samples_leaf=1, min_samples_split=2,\n",
       "                       min_weight_fraction_leaf=0.0, presort='deprecated',\n",
       "                       random_state=None, splitter='best')"
      ]
     },
     "execution_count": 16,
     "metadata": {},
     "output_type": "execute_result"
    }
   ],
   "source": [
    "clf = DecisionTreeClassifier(max_depth=3)\n",
    "clf.fit(X_train_normalized,y_train)"
   ]
  },
  {
   "cell_type": "code",
   "execution_count": 17,
   "metadata": {},
   "outputs": [
    {
     "name": "stdout",
     "output_type": "stream",
     "text": [
      "Train Accuray : 0.8098958333333334\n",
      "Test Accuracy : 0.7512953367875648\n"
     ]
    }
   ],
   "source": [
    "print(f'Train Accuray : {clf.score(X_train_normalized,y_train)}')\n",
    "print(f'Test Accuracy : {clf.score(X_test_normalized,y_test)}')"
   ]
  },
  {
   "cell_type": "markdown",
   "metadata": {},
   "source": [
    "Tahmin ettigimic gibi Density ozelligi modelin kararlarinda cok etkili ola bir feature olmadi. <br>\n",
    "\n",
    "En etkili ozelliginde Shape oldugunu net bir sekile gorebiliyoruz. "
   ]
  },
  {
   "cell_type": "code",
   "execution_count": 18,
   "metadata": {},
   "outputs": [
    {
     "data": {
      "image/png": "[encoded data removed]",
      "text/plain": [
       "<Figure size 432x288 with 1 Axes>"
      ]
     },
     "metadata": {},
     "output_type": "display_data"
    }
   ],
   "source": [
    "plt.barh(feature_names,clf.feature_importances_)\n",
    "plt.show()"
   ]
  },
  {
   "cell_type": "markdown",
   "metadata": {},
   "source": [
    "#### K-FOLD CROSS VALIDATION "
   ]
  },
  {
   "cell_type": "code",
   "execution_count": 19,
   "metadata": {},
   "outputs": [
    {
     "name": "stdout",
     "output_type": "stream",
     "text": [
      "0.7960695876288659\n"
     ]
    }
   ],
   "source": [
    "X_normalized = stdScaler.fit_transform(X)\n",
    "scores = cross_val_score(clf,X,y,cv=10)\n",
    "print(scores.mean()) # 10 fold cross validation ile modelin basarisi olcumledik. \n",
    "# cikan sonuclara gore ortalama 79.6 basari elde edebiliyoruz. "
   ]
  },
  {
   "cell_type": "markdown",
   "metadata": {},
   "source": [
    "### Randomforest "
   ]
  },
  {
   "cell_type": "code",
   "execution_count": 20,
   "metadata": {},
   "outputs": [
    {
     "data": {
      "text/plain": [
       "RandomForestClassifier(bootstrap=True, ccp_alpha=0.0, class_weight=None,\n",
       "                       criterion='gini', max_depth=None, max_features='auto',\n",
       "                       max_leaf_nodes=None, max_samples=None,\n",
       "                       min_impurity_decrease=0.0, min_impurity_split=None,\n",
       "                       min_samples_leaf=1, min_samples_split=2,\n",
       "                       min_weight_fraction_leaf=0.0, n_estimators=100,\n",
       "                       n_jobs=None, oob_score=False, random_state=None,\n",
       "                       verbose=0, warm_start=False)"
      ]
     },
     "execution_count": 20,
     "metadata": {},
     "output_type": "execute_result"
    }
   ],
   "source": [
    "clf = RandomForestClassifier()\n",
    "clf.fit(X_train_normalized,y_train)"
   ]
  },
  {
   "cell_type": "code",
   "execution_count": 21,
   "metadata": {},
   "outputs": [
    {
     "name": "stdout",
     "output_type": "stream",
     "text": [
      "Train Accuracy : 0.9010416666666666\n",
      "Test Accuracy : 0.7461139896373057\n"
     ]
    }
   ],
   "source": [
    "y_train_pred = clf.predict(X_train_normalized)\n",
    "y_test_pred = clf.predict(X_test_normalized)\n",
    "\n",
    "print(f'Train Accuracy : {accuracy_score(y_train_pred,y_train)}')\n",
    "print(f'Test Accuracy : {accuracy_score(y_test_pred,y_test)}')"
   ]
  },
  {
   "cell_type": "markdown",
   "metadata": {},
   "source": [
    "### SVM "
   ]
  },
  {
   "cell_type": "code",
   "execution_count": 22,
   "metadata": {},
   "outputs": [
    {
     "data": {
      "text/plain": [
       "SVC(C=1.0, break_ties=False, cache_size=200, class_weight=None, coef0=0.0,\n",
       "    decision_function_shape='ovr', degree=3, gamma='scale', kernel='rbf',\n",
       "    max_iter=-1, probability=False, random_state=None, shrinking=True,\n",
       "    tol=0.001, verbose=False)"
      ]
     },
     "execution_count": 22,
     "metadata": {},
     "output_type": "execute_result"
    }
   ],
   "source": [
    "clf = SVC()\n",
    "clf.fit(X_train_normalized,y_train)"
   ]
  },
  {
   "cell_type": "code",
   "execution_count": 23,
   "metadata": {},
   "outputs": [
    {
     "name": "stdout",
     "output_type": "stream",
     "text": [
      "Train Accuray : 0.8190104166666666\n",
      "Test Accuracy : 0.7772020725388601\n"
     ]
    }
   ],
   "source": [
    "print(f'Train Accuray : {clf.score(X_train_normalized,y_train)}')\n",
    "print(f'Test Accuracy : {clf.score(X_test_normalized,y_test)}')"
   ]
  },
  {
   "cell_type": "markdown",
   "metadata": {},
   "source": [
    "### K-Neares Neighbors"
   ]
  },
  {
   "cell_type": "code",
   "execution_count": 24,
   "metadata": {},
   "outputs": [
    {
     "data": {
      "text/plain": [
       "KNeighborsClassifier(algorithm='auto', leaf_size=30, metric='minkowski',\n",
       "                     metric_params=None, n_jobs=None, n_neighbors=10, p=2,\n",
       "                     weights='uniform')"
      ]
     },
     "execution_count": 24,
     "metadata": {},
     "output_type": "execute_result"
    }
   ],
   "source": [
    "clf = KNeighborsClassifier(n_neighbors=10)\n",
    "clf.fit(X_train_normalized,y_train)"
   ]
  },
  {
   "cell_type": "code",
   "execution_count": 25,
   "metadata": {},
   "outputs": [
    {
     "name": "stdout",
     "output_type": "stream",
     "text": [
      "Train Accuray : 0.8190104166666666\n",
      "Test Accuracy : 0.7823834196891192\n"
     ]
    }
   ],
   "source": [
    "print(f'Train Accuray : {clf.score(X_train_normalized,y_train)}')\n",
    "print(f'Test Accuracy : {clf.score(X_test_normalized,y_test)}')"
   ]
  },
  {
   "cell_type": "markdown",
   "metadata": {},
   "source": [
    "### KNN - ELBOW METHOD \n",
    "Elbow metodu kullanarak. KNN de kullandigimiz n_neighbors degerini belirleyebiliz. <br>  \n",
    "n_neighbors degerini arttirarak hatalari hesaplayip. Optimal n_neighbors degerini bulmaya calisacagiz. "
   ]
  },
  {
   "cell_type": "code",
   "execution_count": 26,
   "metadata": {},
   "outputs": [],
   "source": [
    "errors_ = []\n",
    "for i in range(1,50):\n",
    "    clf = KNeighborsClassifier(n_neighbors=i)\n",
    "    clf.fit(X_train_normalized,y_train)\n",
    "    errors_.append(np.mean(clf.predict(X_test_normalized)!=y_test))\n",
    "    \n",
    "    "
   ]
  },
  {
   "cell_type": "code",
   "execution_count": 27,
   "metadata": {},
   "outputs": [
    {
     "data": {
      "image/png": "[encoded data removed]",
      "text/plain": [
       "<Figure size 576x432 with 1 Axes>"
      ]
     },
     "metadata": {},
     "output_type": "display_data"
    }
   ],
   "source": [
    "plt.figure(figsize=(8,6))\n",
    "plt.xticks(range(1,52,4))\n",
    "# grafikten gorilecegi uzere en dusuk error n_neigbors = 17 de almisiz. \n",
    "plt.plot(range(1,50),errors_,marker='o',)\n",
    "plt.title('Elbow Method')\n",
    "plt.show()"
   ]
  },
  {
   "cell_type": "markdown",
   "metadata": {},
   "source": [
    "### NAIVE BAYES \n"
   ]
  },
  {
   "cell_type": "code",
   "execution_count": 28,
   "metadata": {},
   "outputs": [],
   "source": [
    "# multinomaial naive bayes kullanmak icin featurelari min-max scaler ile scale ediyoruz."
   ]
  },
  {
   "cell_type": "code",
   "execution_count": 29,
   "metadata": {},
   "outputs": [],
   "source": [
    "minMaxScaler = MinMaxScaler()\n",
    "X_train_normalized_m = minMaxScaler.fit_transform(X_train)\n",
    "X_test_normalized_m = minMaxScaler.transform(X_test)"
   ]
  },
  {
   "cell_type": "code",
   "execution_count": 30,
   "metadata": {},
   "outputs": [
    {
     "data": {
      "text/plain": [
       "MultinomialNB(alpha=1.0, class_prior=None, fit_prior=True)"
      ]
     },
     "execution_count": 30,
     "metadata": {},
     "output_type": "execute_result"
    }
   ],
   "source": [
    "clf = MultinomialNB()\n",
    "clf.fit(X_train_normalized_m,y_train)"
   ]
  },
  {
   "cell_type": "code",
   "execution_count": 31,
   "metadata": {},
   "outputs": [
    {
     "name": "stdout",
     "output_type": "stream",
     "text": [
      "Train Accuray : 0.7825520833333334\n",
      "Test Accuracy : 0.7461139896373057\n"
     ]
    }
   ],
   "source": [
    "print(f'Train Accuray : {clf.score(X_train_normalized_m,y_train)}')\n",
    "print(f'Test Accuracy : {clf.score(X_test_normalized_m,y_test)}')"
   ]
  },
  {
   "cell_type": "markdown",
   "metadata": {},
   "source": [
    "### SVM - Farkli kernel kullanarak"
   ]
  },
  {
   "cell_type": "code",
   "execution_count": 32,
   "metadata": {},
   "outputs": [
    {
     "data": {
      "text/plain": [
       "SVC(C=1.0, break_ties=False, cache_size=200, class_weight=None, coef0=0.0,\n",
       "    decision_function_shape='ovr', degree=3, gamma='scale', kernel='poly',\n",
       "    max_iter=-1, probability=False, random_state=None, shrinking=True,\n",
       "    tol=0.001, verbose=False)"
      ]
     },
     "execution_count": 32,
     "metadata": {},
     "output_type": "execute_result"
    }
   ],
   "source": [
    "clf = SVC(kernel='poly')\n",
    "clf.fit(X_train_normalized,y_train)"
   ]
  },
  {
   "cell_type": "code",
   "execution_count": 33,
   "metadata": {},
   "outputs": [
    {
     "name": "stdout",
     "output_type": "stream",
     "text": [
      "Train Accuray : 0.8059895833333334\n",
      "Test Accuracy : 0.7461139896373057\n"
     ]
    }
   ],
   "source": [
    "print(f'Train Accuray : {clf.score(X_train_normalized,y_train)}')\n",
    "print(f'Test Accuracy : {clf.score(X_test_normalized,y_test)}')"
   ]
  },
  {
   "cell_type": "code",
   "execution_count": 34,
   "metadata": {},
   "outputs": [
    {
     "data": {
      "text/plain": [
       "SVC(C=1.0, break_ties=False, cache_size=200, class_weight=None, coef0=0.0,\n",
       "    decision_function_shape='ovr', degree=3, gamma='scale', kernel='sigmoid',\n",
       "    max_iter=-1, probability=False, random_state=None, shrinking=True,\n",
       "    tol=0.001, verbose=False)"
      ]
     },
     "execution_count": 34,
     "metadata": {},
     "output_type": "execute_result"
    }
   ],
   "source": [
    "clf = SVC(kernel='sigmoid')\n",
    "clf.fit(X_train_normalized,y_train)"
   ]
  },
  {
   "cell_type": "code",
   "execution_count": 35,
   "metadata": {},
   "outputs": [
    {
     "name": "stdout",
     "output_type": "stream",
     "text": [
      "Train Accuray : 0.7174479166666666\n",
      "Test Accuracy : 0.7098445595854922\n"
     ]
    }
   ],
   "source": [
    "print(f'Train Accuray : {clf.score(X_train_normalized,y_train)}')\n",
    "print(f'Test Accuracy : {clf.score(X_test_normalized,y_test)}')"
   ]
  },
  {
   "cell_type": "markdown",
   "metadata": {},
   "source": [
    "### Grid Search"
   ]
  },
  {
   "cell_type": "code",
   "execution_count": 36,
   "metadata": {},
   "outputs": [],
   "source": [
    "grid_params = {'kernel':[\"rbf\",\"poly\",'linear','sigmoid'],'C':np.arange(1,10)}\n",
    "\n",
    "clf = SVC()\n",
    "grid_search= GridSearchCV(clf,grid_params,cv=10)"
   ]
  },
  {
   "cell_type": "code",
   "execution_count": 37,
   "metadata": {},
   "outputs": [
    {
     "data": {
      "text/plain": [
       "GridSearchCV(cv=10, error_score=nan,\n",
       "             estimator=SVC(C=1.0, break_ties=False, cache_size=200,\n",
       "                           class_weight=None, coef0=0.0,\n",
       "                           decision_function_shape='ovr', degree=3,\n",
       "                           gamma='scale', kernel='rbf', max_iter=-1,\n",
       "                           probability=False, random_state=None, shrinking=True,\n",
       "                           tol=0.001, verbose=False),\n",
       "             iid='deprecated', n_jobs=None,\n",
       "             param_grid={'C': array([1, 2, 3, 4, 5, 6, 7, 8, 9]),\n",
       "                         'kernel': ['rbf', 'poly', 'linear', 'sigmoid']},\n",
       "             pre_dispatch='2*n_jobs', refit=True, return_train_score=False,\n",
       "             scoring=None, verbose=0)"
      ]
     },
     "execution_count": 37,
     "metadata": {},
     "output_type": "execute_result"
    }
   ],
   "source": [
    "grid_search.fit(X_normalized,y)"
   ]
  },
  {
   "cell_type": "code",
   "execution_count": 38,
   "metadata": {},
   "outputs": [
    {
     "name": "stdout",
     "output_type": "stream",
     "text": [
      "En iyi parametreler : {'C': 2, 'kernel': 'rbf'}\n",
      "En yuksek accuracy : 0.8033290378006871\n"
     ]
    }
   ],
   "source": [
    "print(f'En iyi parametreler : {grid_search.best_params_}')\n",
    "print(f'En yuksek accuracy : {grid_search.best_score_}')"
   ]
  },
  {
   "cell_type": "markdown",
   "metadata": {},
   "source": [
    "### Model Evaluate \n",
    "Modellerin basarilarini olcmek icin her seferinde tek tek yazmak yerine bir method olusturarak her seferinde bu method uzerinden modellerimizi degerlendirebilirdik. Ama ben aliskanlik edinebilmeniz icin her seferinde tek tek yazmanin daha ogretici oldugunu dusunuyorum. "
   ]
  },
  {
   "cell_type": "code",
   "execution_count": 39,
   "metadata": {},
   "outputs": [],
   "source": [
    "def evaluate(clf,name):\n",
    "    clf.fit(X_train_normalized,y_train)\n",
    "    y_pred = clf.predict(X_test_normalized)\n",
    "    print(name)\n",
    "    print(\"Accuracy Score : \",accuracy_score(y_test,y_pred))\n",
    "    print(\"Precision Score : \",precision_score(y_test,y_pred))\n",
    "    print(\"Recall Score : \",recall_score(y_test,y_pred))    \n",
    "    print(\"F1 Score : \",f1_score(y_test,y_pred)) \n",
    "    print(\"Cross val Score : \",cross_val_score(clf,X_test_normalized,y_test,cv=10).mean())\n",
    "    print(\"-----\"*10)"
   ]
  },
  {
   "cell_type": "code",
   "execution_count": 40,
   "metadata": {},
   "outputs": [
    {
     "name": "stdout",
     "output_type": "stream",
     "text": [
      "Logistic Regression\n",
      "Accuracy Score :  0.7772020725388601\n",
      "Precision Score :  0.6914893617021277\n",
      "Recall Score :  0.8227848101265823\n",
      "F1 Score :  0.7514450867052023\n",
      "Cross val Score :  0.7455263157894737\n",
      "--------------------------------------------------\n"
     ]
    }
   ],
   "source": [
    "lr = LogisticRegression()\n",
    "evaluate(lr,\"Logistic Regression\")"
   ]
  },
  {
   "cell_type": "markdown",
   "metadata": {},
   "source": [
    "## ENSEMBLE LEARNING \n",
    "Random forest da normalde ensemble modellerdendir ancak onu decision treeden sonra gostermek daha mantikli geldi. \n",
    "<br> Ensemble learningde amac gorece zayif modellerden guclu modeller eldetmektir. \n",
    "### XGBOOST\n",
    "Gradientboosting daha hızlı ve performansı fazladır. Gradient boost sequential olduğu için yavaştır. <br>\n",
    "paralel çalışır\n",
    "hem lasso hem rigge regression kullanılır "
   ]
  },
  {
   "cell_type": "code",
   "execution_count": 41,
   "metadata": {},
   "outputs": [
    {
     "name": "stdout",
     "output_type": "stream",
     "text": [
      "XGBOOST\n",
      "Accuracy Score :  0.7512953367875648\n",
      "Precision Score :  0.691358024691358\n",
      "Recall Score :  0.7088607594936709\n",
      "F1 Score :  0.7\n",
      "Cross val Score :  0.7407894736842106\n",
      "--------------------------------------------------\n"
     ]
    }
   ],
   "source": [
    "import xgboost \n",
    "\n",
    "model = xgboost.XGBClassifier()\n",
    "\n",
    "evaluate(model,'XGBOOST')"
   ]
  },
  {
   "cell_type": "markdown",
   "metadata": {},
   "source": [
    "### Voting Classifier\n",
    "Zayif modellerin birlesip guclu bir model olusturdugu modellerdir. "
   ]
  },
  {
   "cell_type": "code",
   "execution_count": 42,
   "metadata": {},
   "outputs": [
    {
     "name": "stdout",
     "output_type": "stream",
     "text": [
      "VOTING CLASSIFIER\n",
      "Accuracy Score :  0.7823834196891192\n",
      "Precision Score :  0.7176470588235294\n",
      "Recall Score :  0.7721518987341772\n",
      "F1 Score :  0.7439024390243902\n",
      "Cross val Score :  0.7607894736842106\n",
      "--------------------------------------------------\n"
     ]
    }
   ],
   "source": [
    "estimators = []\n",
    "\n",
    "model1 = LogisticRegression()\n",
    "estimators.append((\"logistic\",model1))\n",
    "\n",
    "model2 = DecisionTreeClassifier()\n",
    "estimators.append((\"cart\",model2))\n",
    "\n",
    "model3 = SVC()\n",
    "estimators.append(('svm', model3))\n",
    "\n",
    "model4 = KNeighborsClassifier()\n",
    "estimators.append((\"KNeighborsClassifier\",model4))\n",
    "\n",
    "ensemble = VotingClassifier(estimators)\n",
    "\n",
    "evaluate(ensemble,'VOTING CLASSIFIER')"
   ]
  },
  {
   "cell_type": "markdown",
   "metadata": {},
   "source": [
    "<b> Tabi ki  denenecek bir cok parametre ve model bulunuyor. Ancak temel duzeyde genel bir izlenim vermesi icin bu notebooku hazirladim. <b> "
   ]
  }
 ],
 "metadata": {
  "kernelspec": {
   "display_name": "Python 3",
   "language": "python",
   "name": "python3"
  },
  "language_info": {
   "codemirror_mode": {
    "name": "ipython",
    "version": 3
   },
   "file_extension": ".py",
   "mimetype": "text/x-python",
   "name": "python",
   "nbconvert_exporter": "python",
   "pygments_lexer": "ipython3",
   "version": "3.7.4"
  }
 },
 "nbformat": 4,
 "nbformat_minor": 4
}
